{
 "cells": [
  {
   "cell_type": "markdown",
   "id": "b9fcf996-85ff-445e-9941-568313a7227f",
   "metadata": {},
   "source": [
    "## Analyze data (Predict Category based on Symptoms)"
   ]
  },
  {
   "cell_type": "code",
   "execution_count": 2,
   "id": "449f2935-1fd2-4fbe-9017-9dc8fb6699b2",
   "metadata": {},
   "outputs": [],
   "source": [
    "import pandas as pd\n",
    "from sklearn.feature_extraction.text import TfidfVectorizer\n",
    "from sklearn.preprocessing import LabelEncoder\n",
    "from  sklearn.model_selection import train_test_split, GridSearchCV\n",
    "from sklearn.linear_model import LogisticRegression\n",
    "from sklearn.tree import DecisionTreeClassifier\n",
    "from sklearn.ensemble import RandomForestClassifier\n",
    "# from sklearn.svm import SVC\n",
    "\n",
    "from sklearn.metrics import accuracy_score"
   ]
  },
  {
   "cell_type": "code",
   "execution_count": 3,
   "id": "9175ea34-f9c6-4c6d-bfe5-4d42968a2d48",
   "metadata": {},
   "outputs": [
    {
     "data": {
      "text/html": [
       "<div>\n",
       "<style scoped>\n",
       "    .dataframe tbody tr th:only-of-type {\n",
       "        vertical-align: middle;\n",
       "    }\n",
       "\n",
       "    .dataframe tbody tr th {\n",
       "        vertical-align: top;\n",
       "    }\n",
       "\n",
       "    .dataframe thead th {\n",
       "        text-align: right;\n",
       "    }\n",
       "</style>\n",
       "<table border=\"1\" class=\"dataframe\">\n",
       "  <thead>\n",
       "    <tr style=\"text-align: right;\">\n",
       "      <th></th>\n",
       "      <th>Symptoms</th>\n",
       "      <th>Category</th>\n",
       "    </tr>\n",
       "  </thead>\n",
       "  <tbody>\n",
       "    <tr>\n",
       "      <th>0</th>\n",
       "      <td>Print error</td>\n",
       "      <td>Printer</td>\n",
       "    </tr>\n",
       "    <tr>\n",
       "      <th>1</th>\n",
       "      <td>Fwd: Digital Standees - Cr CTA</td>\n",
       "      <td>Data not clear</td>\n",
       "    </tr>\n",
       "    <tr>\n",
       "      <th>2</th>\n",
       "      <td>Guidance required in MS Office</td>\n",
       "      <td>MS office</td>\n",
       "    </tr>\n",
       "    <tr>\n",
       "      <th>3</th>\n",
       "      <td>Acquaint new users with Service Desk &amp; various...</td>\n",
       "      <td>Application/Software</td>\n",
       "    </tr>\n",
       "    <tr>\n",
       "      <th>4</th>\n",
       "      <td>Crown Project office Printer not working</td>\n",
       "      <td>Printer</td>\n",
       "    </tr>\n",
       "  </tbody>\n",
       "</table>\n",
       "</div>"
      ],
      "text/plain": [
       "                                            Symptoms              Category\n",
       "0                                        Print error               Printer\n",
       "1                     Fwd: Digital Standees - Cr CTA        Data not clear\n",
       "2                     Guidance required in MS Office             MS office\n",
       "3  Acquaint new users with Service Desk & various...  Application/Software\n",
       "4           Crown Project office Printer not working               Printer"
      ]
     },
     "execution_count": 3,
     "metadata": {},
     "output_type": "execute_result"
    }
   ],
   "source": [
    "# load only symptoms and Category Data\n",
    "data = pd.read_excel(\"Train.xlsx\")\n",
    "data.rename(columns={'Subject':'Symptoms'}, inplace=True)\n",
    "data.head()"
   ]
  },
  {
   "cell_type": "code",
   "execution_count": 4,
   "id": "bfe4ccce-d1c0-4462-9038-402b57e5e7ae",
   "metadata": {},
   "outputs": [
    {
     "data": {
      "text/plain": [
       "(34438, 2)"
      ]
     },
     "execution_count": 4,
     "metadata": {},
     "output_type": "execute_result"
    }
   ],
   "source": [
    "data.shape"
   ]
  },
  {
   "cell_type": "code",
   "execution_count": 5,
   "id": "5c62a298-b8c6-40c4-9fc1-cb8f173158d0",
   "metadata": {},
   "outputs": [],
   "source": [
    "X = data[\"Symptoms\"]\n",
    "y = data[\"Category\"]"
   ]
  },
  {
   "cell_type": "code",
   "execution_count": 6,
   "id": "e3d61722-2a3a-478a-9777-7da1b3a090b0",
   "metadata": {},
   "outputs": [],
   "source": [
    "Tf_idf = TfidfVectorizer()\n",
    "le = LabelEncoder()\n",
    "XX = Tf_idf.fit_transform(X)\n",
    "yy = le.fit_transform(y)"
   ]
  },
  {
   "cell_type": "code",
   "execution_count": 7,
   "id": "5622a7df-ecf5-470f-80f9-e78b8d449fa5",
   "metadata": {},
   "outputs": [
    {
     "name": "stdout",
     "output_type": "stream",
     "text": [
      "Symptoms Size :  (34438, 8089)\n"
     ]
    }
   ],
   "source": [
    "print('Symptoms Size : ', XX.shape)"
   ]
  },
  {
   "cell_type": "code",
   "execution_count": 8,
   "id": "dbfb5ade-cd88-470e-aefe-f7750343fdc5",
   "metadata": {},
   "outputs": [],
   "source": [
    "## Split data for training and testing\n",
    "X_train, X_test, y_train, y_test = train_test_split(XX, yy, test_size=0.2, random_state=42)"
   ]
  },
  {
   "cell_type": "code",
   "execution_count": 9,
   "id": "f9d78367-77c4-47ec-99d1-a46aaaf21e39",
   "metadata": {},
   "outputs": [],
   "source": [
    "# Model Define\n",
    "model = {\n",
    "    \"LogisticRegression\": LogisticRegression(),\n",
    "    \"DecisionTree\": DecisionTreeClassifier(),\n",
    "    \"RandomForest\": RandomForestClassifier()\n",
    "    # \"SVC\": SVC(),  # Support Vector Classifier\n",
    "}"
   ]
  },
  {
   "cell_type": "code",
   "execution_count": 10,
   "id": "1568e91a-a73e-4527-9787-774689ba9b4b",
   "metadata": {},
   "outputs": [
    {
     "name": "stdout",
     "output_type": "stream",
     "text": [
      "LogisticRegression: Accuracy = 0.8898\n",
      "DecisionTree: Accuracy = 0.8875\n",
      "RandomForest: Accuracy = 0.8992\n"
     ]
    }
   ],
   "source": [
    "accuracy_results = {}\n",
    "\n",
    "# Loop through the models and evaluate each one\n",
    "for name, model_instance in model.items():\n",
    "    # Train the model\n",
    "    model_instance.fit(X_train, y_train)\n",
    "    \n",
    "    # Make predictions\n",
    "    y_pred = model_instance.predict(X_test)\n",
    "    \n",
    "    # Calculate accuracy\n",
    "    accuracy = accuracy_score(y_test, y_pred)\n",
    "    accuracy_results[name] = accuracy\n",
    "    print(f\"{name}: Accuracy = {accuracy:.4f}\")"
   ]
  },
  {
   "cell_type": "code",
   "execution_count": 11,
   "id": "8cae4ce6-9391-479a-b040-db6ab0d465a0",
   "metadata": {},
   "outputs": [
    {
     "name": "stdout",
     "output_type": "stream",
     "text": [
      "\n",
      "Best Model: RandomForest with Accuracy = 0.8992\n"
     ]
    }
   ],
   "source": [
    "# Find the model with the highest accuracy\n",
    "best_model_name = max(accuracy_results, key=accuracy_results.get)\n",
    "best_accuracy = accuracy_results[best_model_name]\n",
    "best_model = model[best_model_name]\n",
    "\n",
    "print(f\"\\nBest Model: {best_model_name} with Accuracy = {best_accuracy:.4f}\")"
   ]
  },
  {
   "cell_type": "code",
   "execution_count": 12,
   "id": "2ce9c459-2abc-4cf8-b972-17a70f912246",
   "metadata": {},
   "outputs": [],
   "source": [
    "# Define hyperparameters for grid search\n",
    "param_grid = {\n",
    "    'LogisticRegression': {\n",
    "        'C': [0.1, 1, 10, 100],\n",
    "        'penalty': ['l1', 'l2'],\n",
    "        'solver': ['liblinear']\n",
    "    },\n",
    "    'DecisionTree': {\n",
    "        'max_depth': [10, 20, 30, None],\n",
    "        'min_samples_split': [2, 5, 10],\n",
    "        'min_samples_leaf': [1, 2, 4]\n",
    "    },\n",
    "    'RandomForest': {\n",
    "        'n_estimators': [25, 50, 100, 150],\n",
    "        'max_features': ['sqrt', 'log2'],\n",
    "        'max_depth': [3, 6, 9],\n",
    "        'max_leaf_nodes': [3, 6, 9]\n",
    "    }\n",
    "}"
   ]
  },
  {
   "cell_type": "code",
   "execution_count": 13,
   "id": "d5f29e49-b767-4b4a-bcff-23220c315e53",
   "metadata": {},
   "outputs": [
    {
     "name": "stdout",
     "output_type": "stream",
     "text": [
      "Performing GridSearchCV for LogisticRegression\n"
     ]
    },
    {
     "name": "stderr",
     "output_type": "stream",
     "text": [
      "C:\\Users\\pradeep.kumar1\\AppData\\Local\\anaconda3\\Lib\\site-packages\\sklearn\\svm\\_base.py:1237: ConvergenceWarning: Liblinear failed to converge, increase the number of iterations.\n",
      "  warnings.warn(\n"
     ]
    },
    {
     "name": "stdout",
     "output_type": "stream",
     "text": [
      "Best Model for LogisticRegression: LogisticRegression(C=10, penalty='l1', solver='liblinear')\n",
      "Best Model Accuracy for LogisticRegression: 0.9059\n",
      "Performing GridSearchCV for DecisionTree\n",
      "Best Model for DecisionTree: DecisionTreeClassifier()\n",
      "Best Model Accuracy for DecisionTree: 0.8878\n",
      "Performing GridSearchCV for RandomForest\n",
      "Best Model for RandomForest: RandomForestClassifier(max_depth=9, max_leaf_nodes=9, n_estimators=25)\n",
      "Best Model Accuracy for RandomForest: 0.3859\n"
     ]
    }
   ],
   "source": [
    "best_models = {}\n",
    "for name, model_instance in model.items():\n",
    "    print(f\"Performing GridSearchCV for {name}\")\n",
    "    grid_search = GridSearchCV(model_instance, param_grid[name], cv=3, scoring='accuracy', n_jobs=-1)\n",
    "    grid_search.fit(X_train, y_train)\n",
    "    \n",
    "    # Best model from grid search\n",
    "    best_model = grid_search.best_estimator_\n",
    "    best_models[name] = best_model\n",
    "    print(f'Best Model for {name}: {best_model}')\n",
    "    print(f'Best Model Accuracy for {name}: {best_model.score(X_test, y_test):.4f}')\n"
   ]
  },
  {
   "cell_type": "code",
   "execution_count": 14,
   "id": "818da3e3-2dde-4ce7-a069-365c2d8f9c6f",
   "metadata": {},
   "outputs": [
    {
     "name": "stdout",
     "output_type": "stream",
     "text": [
      "\n",
      "Best Model: LogisticRegression with Accuracy = 0.9059\n"
     ]
    }
   ],
   "source": [
    "# Find the model with the highest accuracy\n",
    "best_model_name = max(best_models, key=lambda name: best_models[name].score(X_test, y_test))\n",
    "best_accuracy = best_models[best_model_name].score(X_test, y_test)\n",
    "\n",
    "print(f\"\\nBest Model: {best_model_name} with Accuracy = {best_accuracy:.4f}\")"
   ]
  },
  {
   "cell_type": "markdown",
   "id": "9bad4643-1a9f-49e5-823a-a8aa341343c3",
   "metadata": {},
   "source": [
    "### Fun with model with manually example 😁"
   ]
  },
  {
   "cell_type": "code",
   "execution_count": 58,
   "id": "798a04a1-d788-47f4-b062-d31d34a6454c",
   "metadata": {},
   "outputs": [
    {
     "name": "stdout",
     "output_type": "stream",
     "text": [
      "The predicted category is: Hardware\n"
     ]
    }
   ],
   "source": [
    "new_subject = [\"mic not working\"]\n",
    "new_subject_transformed = Tf_idf.transform(new_subject)\n",
    "# predicted_category = best_model.predict(new_subject_transformed)\n",
    "predicted_category = best_models[best_model_name].predict(new_subject_transformed)\n",
    "predicted_category_label = le.inverse_transform(predicted_category)\n",
    "\n",
    "print(f\"The predicted category is: {predicted_category_label[0]}\")"
   ]
  },
  {
   "cell_type": "markdown",
   "id": "50c5b793-14d4-4089-8c70-ea60a2fe909a",
   "metadata": {},
   "source": [
    "### Prediction on real data"
   ]
  },
  {
   "cell_type": "code",
   "execution_count": 18,
   "id": "aefea3ee-ef58-4a44-b807-a429abc1612f",
   "metadata": {},
   "outputs": [
    {
     "data": {
      "text/plain": [
       "Index(['Incident', 'Customer', 'Product', 'Status Code', 'Assignee',\n",
       "       'Severity', 'Created By', 'Subject', 'Created', 'Updated',\n",
       "       'Raised By Branch', 'Raised By Branch Region'],\n",
       "      dtype='object')"
      ]
     },
     "execution_count": 18,
     "metadata": {},
     "output_type": "execute_result"
    }
   ],
   "source": [
    "new_data = pd.read_excel(\"New_Data.xlsx\")\n",
    "new_data.columns"
   ]
  },
  {
   "cell_type": "code",
   "execution_count": 19,
   "id": "0ad47be1-50a9-440c-85d1-c7b2cbd16b40",
   "metadata": {},
   "outputs": [
    {
     "data": {
      "text/html": [
       "<div>\n",
       "<style scoped>\n",
       "    .dataframe tbody tr th:only-of-type {\n",
       "        vertical-align: middle;\n",
       "    }\n",
       "\n",
       "    .dataframe tbody tr th {\n",
       "        vertical-align: top;\n",
       "    }\n",
       "\n",
       "    .dataframe thead th {\n",
       "        text-align: right;\n",
       "    }\n",
       "</style>\n",
       "<table border=\"1\" class=\"dataframe\">\n",
       "  <thead>\n",
       "    <tr style=\"text-align: right;\">\n",
       "      <th></th>\n",
       "      <th>Incident</th>\n",
       "      <th>Customer</th>\n",
       "      <th>Product</th>\n",
       "      <th>Status Code</th>\n",
       "      <th>Assignee</th>\n",
       "      <th>Severity</th>\n",
       "      <th>Created By</th>\n",
       "      <th>Subject</th>\n",
       "      <th>Created</th>\n",
       "      <th>Updated</th>\n",
       "      <th>Raised By Branch</th>\n",
       "      <th>Raised By Branch Region</th>\n",
       "    </tr>\n",
       "  </thead>\n",
       "  <tbody>\n",
       "    <tr>\n",
       "      <th>0</th>\n",
       "      <td>ID1A</td>\n",
       "      <td>HFC IT</td>\n",
       "      <td>Service Request</td>\n",
       "      <td>80. Resolved</td>\n",
       "      <td>HFCITSECUNDERABAD</td>\n",
       "      <td>Non critical issue</td>\n",
       "      <td>MOHANC</td>\n",
       "      <td>601. Service Request-IceWarp- Not able to logi...</td>\n",
       "      <td>2024-09-26 10:34:37.157</td>\n",
       "      <td>2024-09-25 23:12:17.655</td>\n",
       "      <td>VIZAG</td>\n",
       "      <td>AP + TELNGANA</td>\n",
       "    </tr>\n",
       "    <tr>\n",
       "      <th>1</th>\n",
       "      <td>ID4F</td>\n",
       "      <td>HFC IT</td>\n",
       "      <td>Service Request</td>\n",
       "      <td>.</td>\n",
       "      <td>HFCITINDORE</td>\n",
       "      <td>Non critical issue</td>\n",
       "      <td>RIYAP</td>\n",
       "      <td>511. Service Request-Unable to access emails |...</td>\n",
       "      <td>2024-09-26 11:42:10.000</td>\n",
       "      <td>2024-09-26 11:42:10.471</td>\n",
       "      <td>INDORE</td>\n",
       "      <td>MP + CG</td>\n",
       "    </tr>\n",
       "    <tr>\n",
       "      <th>2</th>\n",
       "      <td>H7BT</td>\n",
       "      <td>HFC IT</td>\n",
       "      <td>Service Request</td>\n",
       "      <td>80. Resolved</td>\n",
       "      <td>HFCITSECUNDERABAD</td>\n",
       "      <td>Non critical issue</td>\n",
       "      <td>LINGAMPALLYSK</td>\n",
       "      <td>125. Service Request-Hardware Issue | 11-Sep-2024</td>\n",
       "      <td>2024-09-11 11:05:08.466</td>\n",
       "      <td>2024-09-25 23:09:45.919</td>\n",
       "      <td>NALGONDA</td>\n",
       "      <td>AP + TELNGANA</td>\n",
       "    </tr>\n",
       "    <tr>\n",
       "      <th>3</th>\n",
       "      <td>ID3Z</td>\n",
       "      <td>HFC IT</td>\n",
       "      <td>Service Request</td>\n",
       "      <td>10. Open</td>\n",
       "      <td>XHFCITJALGAON</td>\n",
       "      <td>Non critical issue</td>\n",
       "      <td>HIMANSHUR</td>\n",
       "      <td>142. Service Request-Printer Configure | 26-Se...</td>\n",
       "      <td>2024-09-26 11:33:57.801</td>\n",
       "      <td>2024-09-26 11:36:22.492</td>\n",
       "      <td>MANDSAUR</td>\n",
       "      <td>NaN</td>\n",
       "    </tr>\n",
       "    <tr>\n",
       "      <th>4</th>\n",
       "      <td>ID2S</td>\n",
       "      <td>HFC IT</td>\n",
       "      <td>Service Request</td>\n",
       "      <td>80. Resolved</td>\n",
       "      <td>HFCITCHENNAI</td>\n",
       "      <td>Non critical issue</td>\n",
       "      <td>GOWTHAMANR</td>\n",
       "      <td>112. Service Request-Citrix | 26-Sep-2024</td>\n",
       "      <td>2024-09-26 11:04:22.549</td>\n",
       "      <td>2024-09-26 11:30:11.920</td>\n",
       "      <td>TRICHY</td>\n",
       "      <td>TAMILNADU</td>\n",
       "    </tr>\n",
       "  </tbody>\n",
       "</table>\n",
       "</div>"
      ],
      "text/plain": [
       "  Incident Customer          Product   Status Code           Assignee  \\\n",
       "0     ID1A   HFC IT  Service Request  80. Resolved  HFCITSECUNDERABAD   \n",
       "1     ID4F   HFC IT  Service Request             .        HFCITINDORE   \n",
       "2     H7BT   HFC IT  Service Request  80. Resolved  HFCITSECUNDERABAD   \n",
       "3     ID3Z   HFC IT  Service Request      10. Open      XHFCITJALGAON   \n",
       "4     ID2S   HFC IT  Service Request  80. Resolved       HFCITCHENNAI   \n",
       "\n",
       "             Severity     Created By  \\\n",
       "0  Non critical issue         MOHANC   \n",
       "1  Non critical issue          RIYAP   \n",
       "2  Non critical issue  LINGAMPALLYSK   \n",
       "3  Non critical issue      HIMANSHUR   \n",
       "4  Non critical issue     GOWTHAMANR   \n",
       "\n",
       "                                             Subject                 Created  \\\n",
       "0  601. Service Request-IceWarp- Not able to logi... 2024-09-26 10:34:37.157   \n",
       "1  511. Service Request-Unable to access emails |... 2024-09-26 11:42:10.000   \n",
       "2  125. Service Request-Hardware Issue | 11-Sep-2024 2024-09-11 11:05:08.466   \n",
       "3  142. Service Request-Printer Configure | 26-Se... 2024-09-26 11:33:57.801   \n",
       "4          112. Service Request-Citrix | 26-Sep-2024 2024-09-26 11:04:22.549   \n",
       "\n",
       "                  Updated Raised By Branch Raised By Branch Region  \n",
       "0 2024-09-25 23:12:17.655            VIZAG           AP + TELNGANA  \n",
       "1 2024-09-26 11:42:10.471           INDORE                 MP + CG  \n",
       "2 2024-09-25 23:09:45.919         NALGONDA           AP + TELNGANA  \n",
       "3 2024-09-26 11:36:22.492         MANDSAUR                     NaN  \n",
       "4 2024-09-26 11:30:11.920           TRICHY               TAMILNADU  "
      ]
     },
     "execution_count": 19,
     "metadata": {},
     "output_type": "execute_result"
    }
   ],
   "source": [
    "new_data.head()"
   ]
  },
  {
   "cell_type": "code",
   "execution_count": 20,
   "id": "d8f30d9f-1afc-4af8-bc03-a71fdcb2ce2a",
   "metadata": {},
   "outputs": [],
   "source": [
    "newtf = Tf_idf.transform(new_data['Subject'])"
   ]
  },
  {
   "cell_type": "code",
   "execution_count": 21,
   "id": "a467ec34-aae2-462f-8a63-ea1ea8c7eefa",
   "metadata": {},
   "outputs": [],
   "source": [
    "# Will predict both method\n",
    "pred = best_models[best_model_name].predict(newtf)\n",
    "newpred = best_models[best_model_name].predict(newtf)"
   ]
  },
  {
   "cell_type": "code",
   "execution_count": 22,
   "id": "d1fe1802-103e-4063-8c6c-cfbd894c6721",
   "metadata": {},
   "outputs": [],
   "source": [
    "# Inverse encode data\n",
    "predicted = le.inverse_transform(pred)\n",
    "newpredicted = le.inverse_transform(newpred)"
   ]
  },
  {
   "cell_type": "code",
   "execution_count": 40,
   "id": "4b9d4c1b-791e-4ca5-8961-416c0d8e493f",
   "metadata": {},
   "outputs": [],
   "source": [
    "# making dictionary for dataframe\n",
    "data = {\n",
    "    \"Symptom\": new_data[\"Subject\"],\n",
    "    \"Predicted\": predicted,\n",
    "    \"2nd Predicted\": newpredicted\n",
    "}\n"
   ]
  },
  {
   "cell_type": "code",
   "execution_count": 41,
   "id": "4866e151-c2b7-4c49-9130-7bf26dd562f7",
   "metadata": {},
   "outputs": [
    {
     "data": {
      "text/html": [
       "<div>\n",
       "<style scoped>\n",
       "    .dataframe tbody tr th:only-of-type {\n",
       "        vertical-align: middle;\n",
       "    }\n",
       "\n",
       "    .dataframe tbody tr th {\n",
       "        vertical-align: top;\n",
       "    }\n",
       "\n",
       "    .dataframe thead th {\n",
       "        text-align: right;\n",
       "    }\n",
       "</style>\n",
       "<table border=\"1\" class=\"dataframe\">\n",
       "  <thead>\n",
       "    <tr style=\"text-align: right;\">\n",
       "      <th></th>\n",
       "      <th>Symptom</th>\n",
       "      <th>Predicted</th>\n",
       "      <th>2nd Predicted</th>\n",
       "    </tr>\n",
       "  </thead>\n",
       "  <tbody>\n",
       "    <tr>\n",
       "      <th>0</th>\n",
       "      <td>601. Service Request-IceWarp- Not able to logi...</td>\n",
       "      <td>Application/Software</td>\n",
       "      <td>Application/Software</td>\n",
       "    </tr>\n",
       "    <tr>\n",
       "      <th>1</th>\n",
       "      <td>511. Service Request-Unable to access emails |...</td>\n",
       "      <td>Access Request</td>\n",
       "      <td>Access Request</td>\n",
       "    </tr>\n",
       "    <tr>\n",
       "      <th>2</th>\n",
       "      <td>125. Service Request-Hardware Issue | 11-Sep-2024</td>\n",
       "      <td>Hardware</td>\n",
       "      <td>Hardware</td>\n",
       "    </tr>\n",
       "    <tr>\n",
       "      <th>3</th>\n",
       "      <td>142. Service Request-Printer Configure | 26-Se...</td>\n",
       "      <td>Printer</td>\n",
       "      <td>Printer</td>\n",
       "    </tr>\n",
       "    <tr>\n",
       "      <th>4</th>\n",
       "      <td>112. Service Request-Citrix | 26-Sep-2024</td>\n",
       "      <td>Application/Software</td>\n",
       "      <td>Application/Software</td>\n",
       "    </tr>\n",
       "  </tbody>\n",
       "</table>\n",
       "</div>"
      ],
      "text/plain": [
       "                                             Symptom             Predicted  \\\n",
       "0  601. Service Request-IceWarp- Not able to logi...  Application/Software   \n",
       "1  511. Service Request-Unable to access emails |...        Access Request   \n",
       "2  125. Service Request-Hardware Issue | 11-Sep-2024              Hardware   \n",
       "3  142. Service Request-Printer Configure | 26-Se...               Printer   \n",
       "4          112. Service Request-Citrix | 26-Sep-2024  Application/Software   \n",
       "\n",
       "          2nd Predicted  \n",
       "0  Application/Software  \n",
       "1        Access Request  \n",
       "2              Hardware  \n",
       "3               Printer  \n",
       "4  Application/Software  "
      ]
     },
     "execution_count": 41,
     "metadata": {},
     "output_type": "execute_result"
    }
   ],
   "source": [
    "# save predected data in dataframe and show tope 5\n",
    "df = pd.DataFrame(data)\n",
    "df.head(5)"
   ]
  },
  {
   "cell_type": "code",
   "execution_count": 42,
   "id": "a91d6f19-0134-48d8-bca4-42a8b5e80636",
   "metadata": {},
   "outputs": [],
   "source": [
    "# Will save only Grid Search CV method prediction because it's have better accuracy\n",
    "# new_data[\"Predicted Category\"] = predicted\n",
    "new_data[\"GSCV Predicted Category\"] = newpredicted"
   ]
  },
  {
   "cell_type": "code",
   "execution_count": 43,
   "id": "fcb17bee-9898-46d9-88bb-1a1a78757b73",
   "metadata": {},
   "outputs": [],
   "source": [
    "new_data.to_excel(\"Predict_cat.xlsx\", index_label=False)"
   ]
  },
  {
   "cell_type": "code",
   "execution_count": null,
   "id": "891b5dd9-e5e2-48aa-8ebd-7fc2444affe0",
   "metadata": {},
   "outputs": [],
   "source": []
  }
 ],
 "metadata": {
  "kernelspec": {
   "display_name": "Python 3 (ipykernel)",
   "language": "python",
   "name": "python3"
  },
  "language_info": {
   "codemirror_mode": {
    "name": "ipython",
    "version": 3
   },
   "file_extension": ".py",
   "mimetype": "text/x-python",
   "name": "python",
   "nbconvert_exporter": "python",
   "pygments_lexer": "ipython3",
   "version": "3.12.4"
  }
 },
 "nbformat": 4,
 "nbformat_minor": 5
}
